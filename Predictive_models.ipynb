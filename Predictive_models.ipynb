{
 "cells": [
  {
   "cell_type": "code",
   "execution_count": null,
   "id": "ba28c708",
   "metadata": {},
   "outputs": [],
   "source": [
    "import pandas as pd\n",
    "from sklearn.ensemble import RandomForestClassifier, RandomForestRegressor\n",
    "from sklearn.preprocessing import LabelEncoder\n",
    "from sklearn.model_selection import train_test_split\n",
    "from sklearn.metrics import accuracy_score, classification_report, mean_squared_error, mean_absolute_error, r2_score\n",
    "from sklearn.cluster import KMeans\n",
    "import matplotlib.pyplot as plt\n",
    "import seaborn as sns\n",
    "import joblib"
   ]
  },
  {
   "cell_type": "code",
   "execution_count": null,
   "id": "72bea288",
   "metadata": {},
   "outputs": [],
   "source": [
    "# Load the Public Bins Locations Dataset\n",
    "# File path for the Public Bins data\n",
    "public_bins_locations_path = 'Public_Bins_Locations_MappingFCC.csv'  # Update path if necessary"
   ]
  },
  {
   "cell_type": "code",
   "execution_count": null,
   "id": "dcdf6a25",
   "metadata": {},
   "outputs": [],
   "source": [
    "# Load the dataset\n",
    "public_bins_locations = pd.read_csv(public_bins_locations_path)"
   ]
  },
  {
   "cell_type": "code",
   "execution_count": null,
   "id": "f67e64e7",
   "metadata": {},
   "outputs": [],
   "source": [
    "# Checking if the dataset is loaded correctly\n",
    "print(\"Public Bins Locations Columns:\", public_bins_locations.columns)"
   ]
  },
  {
   "cell_type": "code",
   "execution_count": null,
   "id": "b6b29617",
   "metadata": {},
   "outputs": [],
   "source": [
    "if 'Cluster' not in public_bins_locations.columns:\n",
    "    kmeans = KMeans(n_clusters=5, random_state=42)\n",
    "    public_bins_locations['Cluster'] = kmeans.fit_predict(public_bins_locations[['X', 'Y']])\n",
    "    print(\"Cluster column created using KMeans.\")\n",
    "else:\n",
    "    print(\"Cluster column already exists.\")"
   ]
  },
  {
   "cell_type": "code",
   "execution_count": null,
   "id": "0e2a99fe",
   "metadata": {
    "lines_to_next_cell": 2
   },
   "outputs": [],
   "source": [
    "# Preprocess Data\n",
    "# Features and target\n",
    "features = ['X', 'Y', 'type']  \n",
    "target = 'Cluster'  "
   ]
  },
  {
   "cell_type": "code",
   "execution_count": null,
   "id": "7bd691ce",
   "metadata": {},
   "outputs": [],
   "source": [
    "public_bins_locations = public_bins_locations.dropna(subset=features + [target])"
   ]
  },
  {
   "cell_type": "code",
   "execution_count": null,
   "id": "ed02d333",
   "metadata": {},
   "outputs": [],
   "source": [
    "#'type' column\n",
    "label_encoder = LabelEncoder()\n",
    "public_bins_locations['type_encoded'] = label_encoder.fit_transform(public_bins_locations['type'])"
   ]
  },
  {
   "cell_type": "code",
   "execution_count": null,
   "id": "eb3bb9f4",
   "metadata": {},
   "outputs": [],
   "source": [
    "# Prepare data\n",
    "X = public_bins_locations[['X', 'Y', 'type_encoded']]\n",
    "y = public_bins_locations[target]"
   ]
  },
  {
   "cell_type": "code",
   "execution_count": null,
   "id": "0bb799cc",
   "metadata": {},
   "outputs": [],
   "source": [
    "# Split into train and test sets\n",
    "X_train, X_test, y_train, y_test = train_test_split(X, y, test_size=0.2, random_state=42)"
   ]
  },
  {
   "cell_type": "code",
   "execution_count": null,
   "id": "3f8751ef",
   "metadata": {},
   "outputs": [],
   "source": [
    "# Train Random Forest Classifier \n",
    "rf_classifier = RandomForestClassifier(random_state=42)\n",
    "rf_classifier.fit(X_train, y_train)"
   ]
  },
  {
   "cell_type": "code",
   "execution_count": null,
   "id": "3b808125",
   "metadata": {},
   "outputs": [],
   "source": [
    "# Make predictions\n",
    "y_pred = rf_classifier.predict(X_test)"
   ]
  },
  {
   "cell_type": "code",
   "execution_count": null,
   "id": "06c0101e",
   "metadata": {},
   "outputs": [],
   "source": [
    "# Evaluating the model\n",
    "accuracy = accuracy_score(y_test, y_pred)\n",
    "print(\"\\n=== Clustering Prediction: Classification Results ===\")\n",
    "print(f\"Accuracy: {accuracy:.2f}\")\n",
    "print(\"\\nClassification Report:\")\n",
    "print(classification_report(y_test, y_pred))"
   ]
  },
  {
   "cell_type": "code",
   "execution_count": null,
   "id": "7900c235",
   "metadata": {},
   "outputs": [],
   "source": [
    "# Plot Feature Importance \n",
    "feature_importances = rf_classifier.feature_importances_\n",
    "plt.figure(figsize=(8, 6))\n",
    "sns.barplot(x=feature_importances, y=['X', 'Y', 'type_encoded'], palette=\"viridis\")\n",
    "plt.title(\"Feature Importance for Cluster Prediction\")\n",
    "plt.xlabel(\"Importance\")\n",
    "plt.ylabel(\"Feature\")\n",
    "plt.show()"
   ]
  },
  {
   "cell_type": "code",
   "execution_count": null,
   "id": "1aaaf2a3",
   "metadata": {},
   "outputs": [],
   "source": [
    "# Load the Brown Bin Data\n",
    "# File path for the Brown Bin data\n",
    "brown_bin_data_path = 'brown_bin_data.csv'  "
   ]
  },
  {
   "cell_type": "code",
   "execution_count": null,
   "id": "df972927",
   "metadata": {},
   "outputs": [],
   "source": [
    "# Load the dataset\n",
    "brown_bin_data = pd.read_csv(brown_bin_data_path)"
   ]
  },
  {
   "cell_type": "code",
   "execution_count": null,
   "id": "1d7a198d",
   "metadata": {},
   "outputs": [],
   "source": [
    "print(\"Brown Bin Data Columns:\", brown_bin_data.columns)"
   ]
  },
  {
   "cell_type": "code",
   "execution_count": null,
   "id": "1d6f028f",
   "metadata": {},
   "outputs": [],
   "source": [
    "# Predictive Model for Brown Bin Data \n",
    "# Features and target\n",
    "features = ['WEEK', 'YEAR', 'Lift count', 'Average weight per bin']\n",
    "target = 'Brown weight collected'"
   ]
  },
  {
   "cell_type": "code",
   "execution_count": null,
   "id": "9906d152",
   "metadata": {},
   "outputs": [],
   "source": [
    "# Drop missing values\n",
    "brown_bin_data = brown_bin_data.dropna(subset=features + [target])"
   ]
  },
  {
   "cell_type": "code",
   "execution_count": null,
   "id": "3ecef0d9",
   "metadata": {},
   "outputs": [],
   "source": [
    "# Split into train and test\n",
    "X = brown_bin_data[features]\n",
    "y = brown_bin_data[target]\n",
    "X_train, X_test, y_train, y_test = train_test_split(X, y, test_size=0.2, random_state=42)"
   ]
  },
  {
   "cell_type": "code",
   "execution_count": null,
   "id": "fc34800b",
   "metadata": {},
   "outputs": [],
   "source": [
    "# Train Random Forest Regressor\n",
    "rf_model = RandomForestRegressor(random_state=42)\n",
    "rf_model.fit(X_train, y_train)"
   ]
  },
  {
   "cell_type": "code",
   "execution_count": null,
   "id": "b5da713a",
   "metadata": {},
   "outputs": [],
   "source": [
    "# Make predictions\n",
    "y_pred = rf_model.predict(X_test)"
   ]
  },
  {
   "cell_type": "code",
   "execution_count": null,
   "id": "28ddc588",
   "metadata": {},
   "outputs": [],
   "source": [
    "# Evaluate the model\n",
    "mse = mean_squared_error(y_test, y_pred)\n",
    "mae = mean_absolute_error(y_test, y_pred)\n",
    "r2 = r2_score(y_test, y_pred)"
   ]
  },
  {
   "cell_type": "code",
   "execution_count": null,
   "id": "45f5d397",
   "metadata": {},
   "outputs": [],
   "source": [
    "print(\"\\n=== Brown Bin Data: Regression Model Results ===\")\n",
    "print(f\"Mean Squared Error (MSE): {mse:.2f}\")\n",
    "print(f\"Mean Absolute Error (MAE): {mae:.2f}\")\n",
    "print(f\"R² Score: {r2:.2f}\")"
   ]
  },
  {
   "cell_type": "code",
   "execution_count": null,
   "id": "73b6087b",
   "metadata": {},
   "outputs": [],
   "source": [
    "# Feature Importance\n",
    "feature_importances = rf_model.feature_importances_\n",
    "plt.figure(figsize=(8, 6))\n",
    "sns.barplot(x=feature_importances, y=features, palette=\"viridis\")\n",
    "plt.title(\"Feature Importance for Brown Weight Collected Prediction\")\n",
    "plt.xlabel(\"Importance\")\n",
    "plt.ylabel(\"Feature\")\n",
    "plt.show()"
   ]
  },
  {
   "cell_type": "code",
   "execution_count": null,
   "id": "30a62dce",
   "metadata": {},
   "outputs": [],
   "source": [
    "# Plot Actual vs. Predicted\n",
    "plt.figure(figsize=(10, 6))\n",
    "plt.scatter(y_test, y_pred, alpha=0.6, label=\"Predictions\")\n",
    "plt.plot([y_test.min(), y_test.max()], [y_test.min(), y_test.max()], 'r--', label=\"Ideal Fit\")\n",
    "plt.title(\"Actual vs. Predicted Brown Weight Collected\")\n",
    "plt.xlabel(\"Actual\")\n",
    "plt.ylabel(\"Predicted\")\n",
    "plt.legend()\n",
    "plt.show()"
   ]
  },
  {
   "cell_type": "code",
   "execution_count": null,
   "id": "ed171001",
   "metadata": {},
   "outputs": [],
   "source": [
    "# Residual Analysis\n",
    "residuals = y_test - y_pred\n",
    "plt.figure(figsize=(10, 6))\n",
    "sns.histplot(residuals, kde=True, bins=30, color=\"blue\")\n",
    "plt.title(\"Residuals Distribution\")\n",
    "plt.xlabel(\"Residuals (Actual - Predicted)\")\n",
    "plt.ylabel(\"Frequency\")\n",
    "plt.show()"
   ]
  },
  {
   "cell_type": "code",
   "execution_count": null,
   "id": "ebf24d36",
   "metadata": {},
   "outputs": [],
   "source": [
    "plt.figure(figsize=(10, 6))\n",
    "plt.scatter(y_pred, residuals, alpha=0.6)\n",
    "plt.axhline(0, color='r', linestyle='--')\n",
    "plt.title(\"Residuals vs. Predicted\")\n",
    "plt.xlabel(\"Predicted\")\n",
    "plt.ylabel(\"Residuals\")\n",
    "plt.show()"
   ]
  },
  {
   "cell_type": "code",
   "execution_count": null,
   "id": "7bac6f8d",
   "metadata": {},
   "outputs": [],
   "source": [
    "# Save the model\n",
    "joblib.dump(rf_model, \"brown_bin_rf_model.pkl\")"
   ]
  }
 ],
 "metadata": {
  "jupytext": {
   "cell_metadata_filter": "-all",
   "main_language": "python",
   "notebook_metadata_filter": "-all"
  }
 },
 "nbformat": 4,
 "nbformat_minor": 5
}
