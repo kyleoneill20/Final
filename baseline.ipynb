{
 "cells": [
  {
   "cell_type": "code",
   "execution_count": null,
   "id": "e9d1ba48",
   "metadata": {},
   "outputs": [],
   "source": [
    "import pandas as pd\n",
    "import numpy as np\n",
    "import matplotlib.pyplot as plt\n",
    "import seaborn as sns\n",
    "from sklearn.metrics import mean_squared_error, mean_absolute_error, accuracy_score\n",
    "from sklearn.model_selection import train_test_split"
   ]
  },
  {
   "cell_type": "code",
   "execution_count": null,
   "id": "ec9fa819",
   "metadata": {},
   "outputs": [],
   "source": [
    "# Load Data \n",
    "# File paths\n",
    "brown_bin_data_path = 'brown_bin_data.csv'\n",
    "public_bins_locations_path = 'Public_Bins_Locations_MappingFCC.csv'"
   ]
  },
  {
   "cell_type": "code",
   "execution_count": null,
   "id": "685c7799",
   "metadata": {},
   "outputs": [],
   "source": [
    "# Load datasets\n",
    "brown_bin_data = pd.read_csv(brown_bin_data_path)"
   ]
  },
  {
   "cell_type": "code",
   "execution_count": null,
   "id": "d2ca0f5e",
   "metadata": {},
   "outputs": [],
   "source": [
    "# Set plotting style\n",
    "plt.style.use(\"ggplot\")"
   ]
  },
  {
   "cell_type": "code",
   "execution_count": null,
   "id": "501daad3",
   "metadata": {},
   "outputs": [],
   "source": [
    "#1. Baseline Model for Brown Bin Data\n",
    "print(\"=== Baseline Model for Brown Bin Data ===\")\n",
    "target = 'Brown weight collected'"
   ]
  },
  {
   "cell_type": "code",
   "execution_count": null,
   "id": "2fcb306b",
   "metadata": {},
   "outputs": [],
   "source": [
    "# Split data into train and test\n",
    "train_data, test_data = train_test_split(brown_bin_data, test_size=0.2, random_state=42)"
   ]
  },
  {
   "cell_type": "code",
   "execution_count": null,
   "id": "320b2d5c",
   "metadata": {},
   "outputs": [],
   "source": [
    "# Baseline prediction\n",
    "baseline_prediction = train_data[target].mean()"
   ]
  },
  {
   "cell_type": "code",
   "execution_count": null,
   "id": "df7a6b79",
   "metadata": {},
   "outputs": [],
   "source": [
    "# Evaluating baseline\n",
    "test_target = test_data[target]\n",
    "baseline_predictions = [baseline_prediction] * len(test_target)"
   ]
  },
  {
   "cell_type": "code",
   "execution_count": null,
   "id": "7ce17cb4",
   "metadata": {},
   "outputs": [],
   "source": [
    "mse = mean_squared_error(test_target, baseline_predictions)\n",
    "mae = mean_absolute_error(test_target, baseline_predictions)"
   ]
  },
  {
   "cell_type": "code",
   "execution_count": null,
   "id": "fc935b77",
   "metadata": {},
   "outputs": [],
   "source": [
    "print(f\"Baseline Mean Squared Error (MSE): {mse:.2f}\")\n",
    "print(f\"Baseline Mean Absolute Error (MAE): {mae:.2f}\\n\")"
   ]
  },
  {
   "cell_type": "code",
   "execution_count": null,
   "id": "0cfa864c",
   "metadata": {},
   "outputs": [],
   "source": [
    "# Improved Visualizatio\n",
    "# With Log Transformation\n",
    "plt.figure(figsize=(10, 6))\n",
    "test_target_log = np.log1p(test_target)  \n",
    "baseline_prediction_log = np.log1p(baseline_prediction)"
   ]
  },
  {
   "cell_type": "code",
   "execution_count": null,
   "id": "673ad882",
   "metadata": {},
   "outputs": [],
   "source": [
    "sns.histplot(test_target_log, bins=50, label='Actual (Log-Transformed)', color='blue', kde=True)\n",
    "plt.axvline(x=baseline_prediction_log, color='orange', linestyle='--', label='Baseline Prediction (Log-Transformed)')\n",
    "plt.title(\"Brown Bin Data: Actual vs. Baseline Predictions (Log-Transformed)\")\n",
    "plt.xlabel(\"Log of Brown Weight Collected\")\n",
    "plt.ylabel(\"Frequency\")\n",
    "plt.legend()\n",
    "plt.show()"
   ]
  },
  {
   "cell_type": "code",
   "execution_count": null,
   "id": "408b8bc0",
   "metadata": {},
   "outputs": [],
   "source": [
    "# 2. Baseline Model for Public Bins Clustering\n",
    "print(\"=== Baseline Model for Public Bins Clustering ===\")\n",
    "# Simulated Clustering Task\n",
    "n_bins = 100 \n",
    "n_clusters = 5  "
   ]
  },
  {
   "cell_type": "code",
   "execution_count": null,
   "id": "ad584807",
   "metadata": {},
   "outputs": [],
   "source": [
    "# Generate random cluster assignments as baseline\n",
    "np.random.seed(42)\n",
    "random_clusters = np.random.randint(0, n_clusters, size=n_bins)"
   ]
  },
  {
   "cell_type": "code",
   "execution_count": null,
   "id": "bfc0b72d",
   "metadata": {},
   "outputs": [],
   "source": [
    "true_clusters = np.random.randint(0, n_clusters, size=n_bins)"
   ]
  },
  {
   "cell_type": "code",
   "execution_count": null,
   "id": "34a914ec",
   "metadata": {},
   "outputs": [],
   "source": [
    "# Evaluating baseline using accuracy\n",
    "baseline_accuracy = accuracy_score(true_clusters, random_clusters)\n",
    "print(f\"Baseline Clustering Accuracy (Random Assignment): {baseline_accuracy:.2f}\")"
   ]
  },
  {
   "cell_type": "code",
   "execution_count": null,
   "id": "eca88341",
   "metadata": {},
   "outputs": [],
   "source": [
    "# Visualising clustering baseline performance\n",
    "plt.figure(figsize=(10, 6))\n",
    "sns.histplot(random_clusters, bins=n_clusters, label='Random Clusters', color='orange', kde=False)\n",
    "sns.histplot(true_clusters, bins=n_clusters, label='True Clusters', color='blue', kde=False)\n",
    "plt.title(\"Clustering Baseline: Random vs. True Cluster Distribution\")\n",
    "plt.xlabel(\"Cluster\")\n",
    "plt.ylabel(\"Frequency\")\n",
    "plt.legend()\n",
    "plt.show()"
   ]
  }
 ],
 "metadata": {
  "jupytext": {
   "cell_metadata_filter": "-all",
   "main_language": "python",
   "notebook_metadata_filter": "-all"
  }
 },
 "nbformat": 4,
 "nbformat_minor": 5
}
