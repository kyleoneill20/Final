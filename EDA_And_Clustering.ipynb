{
 "cells": [
  {
   "cell_type": "code",
   "execution_count": null,
   "id": "908df7ae",
   "metadata": {},
   "outputs": [],
   "source": [
    "import pandas as pd\n",
    "import geopandas as gpd\n",
    "from shapely.geometry import Point\n",
    "import matplotlib.pyplot as plt\n",
    "import seaborn as sns\n",
    "from scipy.spatial.distance import pdist, squareform\n",
    "from sklearn.cluster import KMeans"
   ]
  },
  {
   "cell_type": "code",
   "execution_count": null,
   "id": "efab7454",
   "metadata": {},
   "outputs": [],
   "source": [
    "# File paths\n",
    "traffic_flow_data_path = 'SDCC_Traffic_Flow_Data_July_to_Dec_2020.csv'\n",
    "public_bins_locations_path = 'Public_Bins_Locations_MappingFCC.csv'\n",
    "brown_bin_data_path = 'brown_bin_data.csv'"
   ]
  },
  {
   "cell_type": "code",
   "execution_count": null,
   "id": "66fa4937",
   "metadata": {},
   "outputs": [],
   "source": [
    "# Load datasets\n",
    "traffic_flow_data = pd.read_csv(traffic_flow_data_path)\n",
    "public_bins_locations = pd.read_csv(public_bins_locations_path)\n",
    "brown_bin_data = pd.read_csv(brown_bin_data_path)"
   ]
  },
  {
   "cell_type": "code",
   "execution_count": null,
   "id": "5862a92e",
   "metadata": {},
   "outputs": [],
   "source": [
    "#  Preprocessing for Traffic Data \n",
    "# Converting date column to datetime\n",
    "traffic_flow_data['date'] = pd.to_datetime(traffic_flow_data['date'], errors='coerce')"
   ]
  },
  {
   "cell_type": "code",
   "execution_count": null,
   "id": "360b7e77",
   "metadata": {},
   "outputs": [],
   "source": [
    "# Extracting time related features for analysis\n",
    "traffic_flow_data['hour'] = pd.to_datetime(traffic_flow_data['start_time'], errors='coerce').dt.hour\n",
    "traffic_flow_data['day_of_week'] = traffic_flow_data['date'].dt.day_name()"
   ]
  },
  {
   "cell_type": "code",
   "execution_count": null,
   "id": "eda350ff",
   "metadata": {},
   "outputs": [],
   "source": [
    "# Analysing the top 10 locations by number of bins\n",
    "if 'ParkName' in public_bins_locations.columns:\n",
    "    top_parks = public_bins_locations['ParkName'].value_counts().head(10)\n",
    "    plt.figure(figsize=(12, 6))\n",
    "    sns.barplot(x=top_parks.values, y=top_parks.index, palette='viridis')\n",
    "    plt.title(\"Top 10 Locations by Number of Bins\")\n",
    "    plt.xlabel(\"Number of Bins\")\n",
    "    plt.ylabel(\"Park Name\")\n",
    "    plt.show()"
   ]
  },
  {
   "cell_type": "markdown",
   "id": "f76656ab",
   "metadata": {},
   "source": [
    "EDA: Traffic Congestion Trends "
   ]
  },
  {
   "cell_type": "code",
   "execution_count": null,
   "id": "512bd2a5",
   "metadata": {},
   "outputs": [],
   "source": [
    "# 1. Traffic Congestion by Hour of Day\n",
    "plt.figure(figsize=(12, 6))\n",
    "sns.lineplot(data=traffic_flow_data, x='hour', y='cong', ci=None)\n",
    "plt.title(\"Traffic Congestion by Hour of Day\")\n",
    "plt.xlabel(\"Hour of Day\")\n",
    "plt.ylabel(\"Congestion Level\")\n",
    "plt.show()"
   ]
  },
  {
   "cell_type": "code",
   "execution_count": null,
   "id": "ea83d3fa",
   "metadata": {},
   "outputs": [],
   "source": [
    "# 2. Traffic Congestion by Day of Week\n",
    "plt.figure(figsize=(12, 6))\n",
    "sns.boxplot(data=traffic_flow_data, x='day_of_week', y='cong', order=[\n",
    "    'Monday', 'Tuesday', 'Wednesday', 'Thursday', 'Friday', 'Saturday', 'Sunday'])\n",
    "plt.title(\"Traffic Congestion by Day of Week\")\n",
    "plt.xlabel(\"Day of Week\")\n",
    "plt.ylabel(\"Congestion Level\")\n",
    "plt.show()"
   ]
  },
  {
   "cell_type": "code",
   "execution_count": null,
   "id": "1205b73d",
   "metadata": {},
   "outputs": [],
   "source": [
    "# 3. High Congestion Areas\n",
    "plt.figure(figsize=(12, 6))\n",
    "top_sites = traffic_flow_data.groupby('site')['cong'].mean().sort_values(ascending=False).head(10)\n",
    "sns.barplot(x=top_sites.values, y=top_sites.index, palette=\"viridis\")\n",
    "plt.title(\"Top 10 Sites with Highest Average Congestion\")\n",
    "plt.xlabel(\"Average Congestion Level\")\n",
    "plt.ylabel(\"Site\")\n",
    "plt.show()"
   ]
  },
  {
   "cell_type": "code",
   "execution_count": null,
   "id": "588d8065",
   "metadata": {},
   "outputs": [],
   "source": [
    "# Saving the traffic flow summary to a CSV file\n",
    "traffic_flow_summary = traffic_flow_data.describe()\n",
    "traffic_flow_summary.to_csv('traffic_flow_summary.csv')\n",
    "print(\"Traffic flow summary saved to 'traffic_flow_summary.csv'.\")"
   ]
  },
  {
   "cell_type": "markdown",
   "id": "8d7351a0",
   "metadata": {},
   "source": [
    "Preprocess Public Bins Locations "
   ]
  },
  {
   "cell_type": "code",
   "execution_count": null,
   "id": "1e3266d7",
   "metadata": {
    "lines_to_next_cell": 2
   },
   "outputs": [],
   "source": [
    "# Convert to GeoDataFrame\n",
    "public_bins_locations['geometry'] = public_bins_locations.apply(\n",
    "    lambda row: Point(row['X'], row['Y']), axis=1\n",
    ")\n",
    "bins_gdf = gpd.GeoDataFrame(public_bins_locations, geometry='geometry', crs='EPSG:4326')"
   ]
  },
  {
   "cell_type": "code",
   "execution_count": null,
   "id": "2fac5088",
   "metadata": {},
   "outputs": [],
   "source": [
    "bins_gdf = bins_gdf.to_crs(epsg=3857)"
   ]
  },
  {
   "cell_type": "code",
   "execution_count": null,
   "id": "75ffd827",
   "metadata": {},
   "outputs": [],
   "source": [
    "print(\"X Range:\", bins_gdf.geometry.x.min(), bins_gdf.geometry.x.max())\n",
    "print(\"Y Range:\", bins_gdf.geometry.y.min(), bins_gdf.geometry.y.max())"
   ]
  },
  {
   "cell_type": "markdown",
   "id": "2063214d",
   "metadata": {},
   "source": [
    "Filter Outliers"
   ]
  },
  {
   "cell_type": "code",
   "execution_count": null,
   "id": "90f74694",
   "metadata": {
    "lines_to_next_cell": 2
   },
   "outputs": [],
   "source": [
    "# Set realistic bounds for coordinates \n",
    "bins_filtered = bins_gdf[\n",
    "    (bins_gdf.geometry.x > bins_gdf.geometry.x.min()) & \n",
    "    (bins_gdf.geometry.x < bins_gdf.geometry.x.max()) &\n",
    "    (bins_gdf.geometry.y > bins_gdf.geometry.y.min()) & \n",
    "    (bins_gdf.geometry.y < bins_gdf.geometry.y.max())\n",
    "].copy()"
   ]
  },
  {
   "cell_type": "code",
   "execution_count": null,
   "id": "009c24af",
   "metadata": {},
   "outputs": [],
   "source": [
    "plt.figure(figsize=(12, 8))\n",
    "sns.scatterplot(x=bins_filtered.geometry.x, y=bins_filtered.geometry.y)\n",
    "plt.title(\"Filtered Public Bin Locations (Raw Coordinates)\")\n",
    "plt.xlabel(\"Longitude (X)\")\n",
    "plt.ylabel(\"Latitude (Y)\")\n",
    "plt.show()"
   ]
  },
  {
   "cell_type": "markdown",
   "id": "0fa6ad53",
   "metadata": {},
   "source": [
    "KMeans Clustering "
   ]
  },
  {
   "cell_type": "code",
   "execution_count": null,
   "id": "e6a2803b",
   "metadata": {},
   "outputs": [],
   "source": [
    "# Extracting coordinates for clustering\n",
    "coordinates_filtered = bins_filtered['geometry'].apply(lambda p: (p.x, p.y)).tolist()"
   ]
  },
  {
   "cell_type": "code",
   "execution_count": null,
   "id": "5ca9fd28",
   "metadata": {},
   "outputs": [],
   "source": [
    "# Ensuring there is enough points for clustering\n",
    "if len(coordinates_filtered) >= 5:  \n",
    "    kmeans = KMeans(n_clusters=5, random_state=42)\n",
    "    clusters_filtered = kmeans.fit_predict(coordinates_filtered)\n",
    "    bins_filtered['Cluster'] = clusters_filtered\n",
    "\n",
    "    # Visualising the clusters\n",
    "    plt.figure(figsize=(12, 8))\n",
    "    sns.scatterplot(\n",
    "        x=bins_filtered.geometry.x, \n",
    "        y=bins_filtered.geometry.y, \n",
    "        hue=bins_filtered['Cluster'], \n",
    "        palette=\"Set2\"\n",
    "    )\n",
    "    plt.title(\"KMeans Clustering of Public Bin Locations\")\n",
    "    plt.xlabel(\"Longitude (X)\")\n",
    "    plt.ylabel(\"Latitude (Y)\")\n",
    "    plt.legend(title=\"Cluster\")\n",
    "    plt.show()\n",
    "else:\n",
    "    print(\"Not enough data points for clustering. Check filtering criteria.\")"
   ]
  },
  {
   "cell_type": "code",
   "execution_count": null,
   "id": "b21bc634",
   "metadata": {},
   "outputs": [],
   "source": [
    "# Correlation Matrix \n",
    "correlation_columns = ['Brown weight collected', 'Lift count', 'Average weight per bin']\n",
    "correlation_matrix = brown_bin_data[correlation_columns].corr()\n",
    "plt.figure(figsize=(8, 6))\n",
    "sns.heatmap(correlation_matrix, annot=True, cmap='coolwarm', fmt=\".2f\", linewidths=0.5)\n",
    "plt.title(\"Correlation Heatmap of Collection Metrics\")\n",
    "plt.show()"
   ]
  },
  {
   "cell_type": "markdown",
   "id": "c45a65c4",
   "metadata": {},
   "source": [
    "Waste Trends Over Time "
   ]
  },
  {
   "cell_type": "code",
   "execution_count": null,
   "id": "af8b54ea",
   "metadata": {},
   "outputs": [],
   "source": [
    "# Weekly Trends\n",
    "weekly_waste = brown_bin_data.groupby('WEEK')['Brown weight collected'].sum()\n",
    "plt.figure(figsize=(10, 6))\n",
    "sns.lineplot(x=weekly_waste.index, y=weekly_waste.values)\n",
    "plt.title(\"Waste Generation Over Time by Week\")\n",
    "plt.xlabel(\"Week\")\n",
    "plt.ylabel(\"Total Brown Weight Collected\")\n",
    "plt.grid(True)\n",
    "plt.show()"
   ]
  },
  {
   "cell_type": "code",
   "execution_count": null,
   "id": "f76656de",
   "metadata": {},
   "outputs": [],
   "source": [
    "# Yearly Trends\n",
    "yearly_waste = brown_bin_data.groupby('YEAR')['Brown weight collected'].sum()\n",
    "plt.figure(figsize=(10, 6))\n",
    "sns.lineplot(x=yearly_waste.index, y=yearly_waste.values)\n",
    "plt.title(\"Waste Generation Over Time by Year\")\n",
    "plt.xlabel(\"Year\")\n",
    "plt.ylabel(\"Total Brown Weight Collected\")\n",
    "plt.grid(True)\n",
    "plt.show()"
   ]
  },
  {
   "cell_type": "code",
   "execution_count": null,
   "id": "7ec064ae",
   "metadata": {},
   "outputs": [],
   "source": []
  }
 ],
 "metadata": {
  "jupytext": {
   "cell_metadata_filter": "-all",
   "main_language": "python",
   "notebook_metadata_filter": "-all"
  }
 },
 "nbformat": 4,
 "nbformat_minor": 5
}
